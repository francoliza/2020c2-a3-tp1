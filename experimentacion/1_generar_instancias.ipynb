{
 "cells": [
  {
   "cell_type": "markdown",
   "metadata": {},
   "source": [
    "# Generador de instancias\n",
    "En este notebook está el código para generar los sets de instancias que se usan para experimentar.\n",
    "- Estas instancias van a ser guardadas en la carpeta __instancias__.\n",
    "- Cada set estará en su propia carpeta y tendrá un archivo _indice.csv_ que contendrá información sobre las instancias."
   ]
  },
  {
   "cell_type": "code",
   "execution_count": 1,
   "metadata": {},
   "outputs": [],
   "source": [
    "import random, math\n",
    "import pandas as pd"
   ]
  },
  {
   "cell_type": "code",
   "execution_count": 2,
   "metadata": {},
   "outputs": [],
   "source": [
    "def save_instance(dataset, instance_name, C, M, n):\n",
    "    with open(F\"instancias/{dataset}/{instance_name}.txt\", \"w\") as f:\n",
    "        print(n, M, file=f)\n",
    "        for c in C: \n",
    "            print(c, c, sep=\" \", file=f)\n",
    "\n",
    "def save_index(dataset, instances):\n",
    "    with open(F\"instancias/{dataset}/instances.txt\", \"w\") as f:\n",
    "        for instance in instances: \n",
    "            print(instance, file=f)"
   ]
  },
  {
   "cell_type": "markdown",
   "metadata": {},
   "source": []
  },
  {
   "cell_type": "markdown",
   "metadata": {},
   "source": [
    "## Dataset 1\n",
    "Instancias donde necesito menos locales para alcanzar M:\n",
    "```\n",
    "C = { 1, 2, ... , n } con M = n/2\n",
    "B = { 1, 2, ... , n } \n",
    "```\n",
    "\n",
    "En este caso M es chico en comparacion a los contagios y se podran abrir menor cantidad de locales."
   ]
  },
  {
   "cell_type": "code",
   "execution_count": 3,
   "metadata": {},
   "outputs": [],
   "source": [
    "filas_indice = []\n",
    "B = []\n",
    "for n in range(1, 201):\n",
    "    M = math.floor(n/2)\n",
    "    B = [0 for i in range(0, n)]\n",
    "    for i in range(0, n): B[i] = i+1\n",
    "    random.shuffle(B)\n",
    "    save_instance(\"min-cant\", F\"mic-{n}\", B, M, n)\n",
    "    B = []\n",
    "    filas_indice.append([\"min-cant\", F\"mic-{n}\", n, M, F\"instancias/min-cant/mic-{n}.txt\"])\n",
    "pd.DataFrame(filas_indice, columns=[\"dataset\", \"instancia\", \"n\", \"M\", \"archivo\"]).to_csv(\"instancias/min-cant/indice.csv\", index=False, header=True)"
   ]
  },
  {
   "cell_type": "markdown",
   "metadata": {},
   "source": [
    "## Dataset 2\n",
    "Instancias donde necesito mayor cantidad de elementos para llegar a M:\n",
    "```\n",
    "C = { 1, 2, ... , n } con M = n(n+1)/4\n",
    "B = { 1, 2, ... , n } \n",
    "```\n",
    "En este caso el limite de contagio es muy grande con respecto a los contagios, y deberia poder abrir mas locales."
   ]
  },
  {
   "cell_type": "code",
   "execution_count": 4,
   "metadata": {},
   "outputs": [],
   "source": [
    "filas_indice = []\n",
    "B = []\n",
    "for n in range(1, 59):\n",
    "    M = max(1, math.floor(n * (n+1) / 4))\n",
    "    B = [0 for i in range(0, n)]\n",
    "    for i in range(0, n): B[i] = i+1\n",
    "    random.shuffle(B)\n",
    "    save_instance(\"max-cant\", F\"mac-{n}\", B, M, n)\n",
    "    B = []\n",
    "    filas_indice.append([\"max-cant\", F\"mac-{n}\", n, M, F\"instancias/max-cant/mac-{n}.txt\"])\n",
    "pd.DataFrame(filas_indice, columns=[\"dataset\", \"instancia\", \"n\", \"M\", \"archivo\"]).to_csv(\"instancias/max-cant/indice.csv\", index=False, header=True)"
   ]
  },
  {
   "cell_type": "markdown",
   "metadata": {},
   "source": [
    "# Dataset 3\n",
    "Instancias de mejor caso de backtracking.\n",
    "```\n",
    "B = {2*n, ...,1, 1} con #B y #C = n y M = n*2\n",
    "C = {2*n, ..., 1, 1} \n",
    "```\n",
    "En este caso solo un elemento cumple M y con el beneficio maximo, por lo que no tiene que considerar tantos casos."
   ]
  },
  {
   "cell_type": "code",
   "execution_count": 5,
   "metadata": {},
   "outputs": [],
   "source": [
    "filas_indice = []\n",
    "B = []\n",
    "for n in range(1, 1001):\n",
    "    M = n*2\n",
    "    B = [1 for i in range(0, n)]\n",
    "    B[0] = n*2    \n",
    "    save_instance(\"mejor-caso-bt\", F\"BT-MC-{n}\", B, M, n)\n",
    "    B = []\n",
    "    filas_indice.append([\"mejor-caso-bt\", F\"BT-MC-{n}\", n, M, F\"instancias/mejor-caso-bt/BT-MC-{n}.txt\"])\n",
    "pd.DataFrame(filas_indice, columns=[\"dataset\", \"instancia\", \"n\", \"M\", \"archivo\"]).to_csv(\"instancias/mejor-caso-bt/indice.csv\", index=False, header=True)"
   ]
  },
  {
   "cell_type": "markdown",
   "metadata": {},
   "source": [
    "# Dataset 4\n",
    "genera el peor caso de bt, donde tengo que agregar la mayor cantidad de elementos y debe recorrer el arbol de bt entero.\n",
    "\n",
    "```\n",
    "B = {1, ...,1, 1} con #B y #C = n,  M = n.\n",
    "C = {1, ..., 1, 1} \n",
    "```"
   ]
  },
  {
   "cell_type": "code",
   "execution_count": 6,
   "metadata": {},
   "outputs": [],
   "source": [
    "filas_indice = []\n",
    "B = []\n",
    "for n in range(1, 61):\n",
    "    M = n\n",
    "    B = [1 for i in range(0, n)]\n",
    "    save_instance(\"peor-caso-bt\", F\"BT-PC-{n}\", B, M, n)\n",
    "    B = []\n",
    "    filas_indice.append([\"peor-caso-bt\", F\"BT-PC-{n}\", n, M, F\"instancias/peor-caso-bt/BT-PC-{n}.txt\"])\n",
    "pd.DataFrame(filas_indice, columns=[\"dataset\", \"instancia\", \"n\", \"M\", \"archivo\"]).to_csv(\"instancias/peor-caso-bt/indice.csv\", index=False, header=True)"
   ]
  },
  {
   "cell_type": "markdown",
   "metadata": {},
   "source": [
    "# Dataset 5\n",
    "EXPERIMENTAL, CONSULTAR\n",
    "```\n",
    "B = {M, ..., 1, 1} y M arbitrariamente grande\n",
    "C = {M, ..., 1, 1} \n",
    "```\n",
    "La hipótesis es que dado que el beneficio máximo y contagio máximo se encuentran en el primer lugar del Dataset, el algoritmo de Backtracking termina muy rápido, de hecho termina más rápido que con sus 2 podas."
   ]
  },
  {
   "cell_type": "code",
   "execution_count": 7,
   "metadata": {},
   "outputs": [],
   "source": [
    "filas_indice = []\n",
    "B = []\n",
    "for i in range(1, 201):\n",
    "    n = i * 10\n",
    "    M = 1000\n",
    "    for j in range(0, n):\n",
    "        B.append(1)\n",
    "        B.append(1)\n",
    "        B.append('\\n')\n",
    "    B[0] = M\n",
    "    B[1] = M\n",
    "    save_instance(\"dataset-5\", F\"DS-5-MC-{n}\", B, M, n)\n",
    "    B = []\n",
    "    filas_indice.append([\"dataset-5\", F\"DS-5-{n}\", n, M, F\"instancias/dataset-5/DS-5-{n}.txt\"])\n",
    "pd.DataFrame(filas_indice, columns=[\"dataset\", \"instancia\", \"n\", \"M\", \"archivo\"]).to_csv(\"instancias/dataset-5/indice.csv\", index=False, header=True)"
   ]
  },
  {
   "cell_type": "markdown",
   "metadata": {},
   "source": [
    "# Dataset 6\n",
    "\n",
    "Instancias variando n y M, a medidad que  \n"
   ]
  },
  {
   "cell_type": "code",
   "execution_count": 8,
   "metadata": {},
   "outputs": [],
   "source": [
    "filas_indice = []\n",
    "for n in range(1000, 8500, 500):\n",
    "    for M in range(1000, 8500, 500):\n",
    "        S = [1 for i in range(0, n)]\n",
    "        save_instance(\"dinamica\", F\"PD-{n}-{M}\", S, M, n)\n",
    "        filas_indice.append([\"dinamica\", F\"PD-{n}-{M}\", n, M, F\"instancias/dinamica/PD-{n}-{M}.txt\"])\n",
    "pd.DataFrame(filas_indice, columns=[\"dataset\", \"instancia\", \"n\", \"M\", \"archivo\"]).to_csv(\"instancias/dinamica/indice.csv\", index=False, header=True)"
   ]
  },
  {
   "cell_type": "markdown",
   "metadata": {},
   "source": [
    "# Dataset 7\n",
    "\n",
    "para probar pd con bt creo instancias que sean M = 2^n \n",
    "esto hace que pd sea O(n* 2^n)\n",
    "\n",
    "o(nxM) si m = 2^n -> O(nx2^n)"
   ]
  },
  {
   "cell_type": "code",
   "execution_count": 13,
   "metadata": {},
   "outputs": [],
   "source": [
    "#filas_indice = []\n",
    "#B = []\n",
    "#for n in range(1, 61):\n",
    "#    M = 2**n\n",
    "#    B = [0 for i in range(0, n)]\n",
    "#    for i in range(0, n): B[i] = i+1\n",
    "#    random.shuffle(B)\n",
    "#    save_instance(\"dataset-7\", F\"DS-7-{n}\", B, M, n)\n",
    "#    B = []\n",
    "#    filas_indice.append([\"dataset-7\", F\"DS-7-{n}\", n, M, F\"instancias/dataset-7/DS-7-{n}.txt\"])\n",
    "#pd.DataFrame(filas_indice, columns=[\"dataset\", \"instancia\", \"n\", \"M\", \"archivo\"]).to_csv(\"instancias/dataset-7/indice.csv\", index=False, header=True)"
   ]
  }
 ],
 "metadata": {
  "kernelspec": {
   "display_name": "Python 3",
   "language": "python",
   "name": "python3"
  },
  "language_info": {
   "codemirror_mode": {
    "name": "ipython",
    "version": 3
   },
   "file_extension": ".py",
   "mimetype": "text/x-python",
   "name": "python",
   "nbconvert_exporter": "python",
   "pygments_lexer": "ipython3",
   "version": "3.6.9"
  }
 },
 "nbformat": 4,
 "nbformat_minor": 4
}
