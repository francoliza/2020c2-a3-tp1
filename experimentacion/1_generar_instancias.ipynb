{
 "cells": [
  {
   "cell_type": "markdown",
   "metadata": {},
   "source": [
    "# Generador de instancias\n",
    "En este notebook está el código para generar los sets de instancias que se usan para experimentar.\n",
    "- Estas instancias van a ser guardadas en la carpeta __instancias__.\n",
    "- Cada set estará en su propia carpeta y tendrá un archivo _indice.csv_ que contendrá información sobre las instancias."
   ]
  },
  {
   "cell_type": "code",
   "execution_count": 26,
   "metadata": {},
   "outputs": [],
   "source": [
    "import random, math\n",
    "import pandas as pd"
   ]
  },
  {
   "cell_type": "code",
   "execution_count": 27,
   "metadata": {},
   "outputs": [],
   "source": [
    "def save_instance(dataset, instance_name, S, W):\n",
    "    with open(F\"instancias/{dataset}/{instance_name}.txt\", \"w\") as f:\n",
    "        print(math.floor(len(S)/3), W, file=f)\n",
    "        for s in S: \n",
    "            print(s, file=f, end=\" \")\n",
    "\n",
    "def save_index(dataset, instances):\n",
    "    with open(F\"instancias/{dataset}/instances.txt\", \"w\") as f:\n",
    "        for instance in instances: \n",
    "            print(instance, file=f)"
   ]
  },
  {
   "cell_type": "code",
   "execution_count": null,
   "metadata": {},
   "outputs": [],
   "source": []
  },
  {
   "cell_type": "markdown",
   "metadata": {},
   "source": [
    "# Dataset 3\n",
    "- Backtracking mejor caso\n",
    "Instancias de mejor caso de backtracking, están descriptas en el informe en más detalle.\n",
    "```\n",
    "B = {M, ...,1, 1} con M el limite de contagio  \n",
    "C = {M, ..., 1, 1}\n",
    "```"
   ]
  },
  {
   "cell_type": "code",
   "execution_count": 28,
   "metadata": {},
   "outputs": [],
   "source": [
    "filas_indice = []\n",
    "B = []\n",
    "for i in range(1, 101):\n",
    "    n = i * 10\n",
    "    M = 1000\n",
    "    for j in range(0, n):\n",
    "        B.append(1)\n",
    "        B.append(1)\n",
    "        B.append('\\n')\n",
    "    B[0] = M\n",
    "    B[1] = M\n",
    "    save_instance(\"mejor-caso-bt\", F\"BT-MC-{n}\", B, M)\n",
    "    B = []\n",
    "    filas_indice.append([\"mejor-caso-bt\", F\"BT-MC-{n}\", n, M, F\"instancias/mejor-caso-bt/BT-MC-{n}.txt\"])\n",
    "pd.DataFrame(filas_indice, columns=[\"dataset\", \"instancia\", \"n\", \"M\", \"archivo\"]).to_csv(\"instancias/mejor-caso-bt/indice.csv\", index=False, header=True)"
   ]
  },
  {
   "cell_type": "markdown",
   "metadata": {},
   "source": [
    "## Dataset 1\n",
    "Instancias con densidad alta de contagio:\n",
    "```\n",
    "S = { 1, ..., n } con W = n/2\n",
    "```"
   ]
  },
  {
   "cell_type": "code",
   "execution_count": 36,
   "metadata": {},
   "outputs": [],
   "source": [
    "filas_indice = []\n",
    "B = []\n",
    "for n in range(1, 201):\n",
    "    M = math.floor(n/2)\n",
    "    B = [0 for i in range(0, n)]\n",
    "    for i in range(0, n): B[i] = i+1\n",
    "    random.shuffle(B)\n",
    "    S = []\n",
    "    for i in B:\n",
    "        S.append(i)\n",
    "        S.append(i)\n",
    "        S.append('\\n')\n",
    "    save_instance(\"densidad-alta\", F\"ALTA-{n}\", S, M)\n",
    "    B = []\n",
    "    filas_indice.append([\"densidad-alta\", F\"ALTA-{n}\", n, M, F\"instancias/densidad-alta/ALTA-{n}.txt\"])\n",
    "pd.DataFrame(filas_indice, columns=[\"dataset\", \"instancia\", \"n\", \"W\", \"archivo\"]).to_csv(\"instancias/densidad-alta/indice.csv\", index=False, header=True)"
   ]
  },
  {
   "cell_type": "code",
   "execution_count": null,
   "metadata": {},
   "outputs": [],
   "source": []
  }
 ],
 "metadata": {
  "kernelspec": {
   "display_name": "Python 3",
   "language": "python",
   "name": "python3"
  },
  "language_info": {
   "codemirror_mode": {
    "name": "ipython",
    "version": 3
   },
   "file_extension": ".py",
   "mimetype": "text/x-python",
   "name": "python",
   "nbconvert_exporter": "python",
   "pygments_lexer": "ipython3",
   "version": "3.8.2"
  }
 },
 "nbformat": 4,
 "nbformat_minor": 4
}
