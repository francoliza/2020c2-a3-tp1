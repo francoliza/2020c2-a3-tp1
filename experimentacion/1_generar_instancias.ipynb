{
 "cells": [
  {
   "cell_type": "markdown",
   "metadata": {},
   "source": [
    "# Generador de instancias\n",
    "En este notebook está el código para generar los sets de instancias que se usan para experimentar.\n",
    "- Estas instancias van a ser guardadas en la carpeta __instancias__.\n",
    "- Cada set estará en su propia carpeta y tendrá un archivo _indice.csv_ que contendrá información sobre las instancias."
   ]
  },
  {
   "cell_type": "code",
   "execution_count": 3,
   "metadata": {},
   "outputs": [],
   "source": [
    "import random, math\n",
    "import pandas as pd"
   ]
  },
  {
   "cell_type": "code",
   "execution_count": 4,
   "metadata": {},
   "outputs": [],
   "source": [
    "def save_instance(dataset, instance_name, S, W):\n",
    "    with open(F\"instancias/{dataset}/{instance_name}.txt\", \"w\") as f:\n",
    "        print(len(S), W, file=f)\n",
    "        for s in S: \n",
    "            print(s, file=f, end=\" \")\n",
    "\n",
    "def save_index(dataset, instances):\n",
    "    with open(F\"instancias/{dataset}/instances.txt\", \"w\") as f:\n",
    "        for instance in instances: \n",
    "            print(instance, file=f)"
   ]
  },
  {
   "cell_type": "markdown",
   "metadata": {},
   "source": [
    "# Dataset 1\n",
    "- Backtracking mejor caso\n",
    "Instancias de mejor caso de backtracking, están descriptas en el informe en más detalle.\n",
    "```\n",
    "B = {M, ...,1, 1} con M el limite de contagio  \n",
    "C = {M, ..., 1, 1}\n",
    "```"
   ]
  },
  {
   "cell_type": "code",
   "execution_count": 13,
   "metadata": {},
   "outputs": [],
   "source": [
    "filas_indice = []\n",
    "for i in range(1, 1001):\n",
    "    n = i * 10\n",
    "    M = 1000\n",
    "    B = [1 for i in range(0, n)] #beneficio\n",
    "    C = [1 for i in range(0, n)] #contagio\n",
    "    B[0] = M\n",
    "    C[0] = M\n",
    "    save_instance(\"mejor-caso-bt\", F\"BT-MC-{n}\", B, M)\n",
    "    filas_indice.append([\"mejor-caso-BT\", F\"BT-MC-{n}\", n, M,  F\"instancias/mejor-caso-bt/BT-MC-{n}.txt\"])\n",
    "pd.DataFrame(filas_indice, columns=[\"dataset\", \"instancia\", \"n\", \"M\", \"archivo\"]).to_csv(\"instancias/mejor-caso-bt/indice.csv\", index=False, header=True)"
   ]
  },
  {
   "cell_type": "code",
   "execution_count": null,
   "metadata": {},
   "outputs": [],
   "source": []
  }
 ],
 "metadata": {
  "kernelspec": {
   "display_name": "Python 3",
   "language": "python",
   "name": "python3"
  },
  "language_info": {
   "codemirror_mode": {
    "name": "ipython",
    "version": 3
   },
   "file_extension": ".py",
   "mimetype": "text/x-python",
   "name": "python",
   "nbconvert_exporter": "python",
   "pygments_lexer": "ipython3",
   "version": "3.8.2"
  }
 },
 "nbformat": 4,
 "nbformat_minor": 4
}
