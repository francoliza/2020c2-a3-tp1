{
 "cells": [
  {
   "cell_type": "markdown",
   "metadata": {},
   "source": [
    "# Generador de instancias\n",
    "En este notebook está el código para generar los sets de instancias que se usan para experimentar.\n",
    "- Estas instancias van a ser guardadas en la carpeta __instancias__.\n",
    "- Cada set estará en su propia carpeta y tendrá un archivo _indice.csv_ que contendrá información sobre las instancias."
   ]
  },
  {
   "cell_type": "code",
   "execution_count": 1,
   "metadata": {},
   "outputs": [],
   "source": [
    "import random, math\n",
    "import pandas as pd"
   ]
  },
  {
   "cell_type": "code",
   "execution_count": 2,
   "metadata": {},
   "outputs": [],
   "source": [
    "def save_instance(dataset, instance_name, C, M, n):\n",
    "    with open(F\"instancias/{dataset}/{instance_name}.txt\", \"w\") as f:\n",
    "        print(n, M, file=f)\n",
    "        for c in C: \n",
    "            print(c, c, sep=\" \", file=f)\n",
    "\n",
    "def save_index(dataset, instances):\n",
    "    with open(F\"instancias/{dataset}/instances.txt\", \"w\") as f:\n",
    "        for instance in instances: \n",
    "            print(instance, file=f)"
   ]
  },
  {
   "cell_type": "markdown",
   "metadata": {},
   "source": []
  },
  {
   "cell_type": "markdown",
   "metadata": {},
   "source": [
    "## Dataset 1\n",
    "Instancias con densidad alta de contagio:\n",
    "(necesito menos locales para alcanzar M)\n",
    "```\n",
    "C = { 1, 2, ... , n } con M = n/2\n",
    "B = { 1, 2, ... , n } \n",
    "```\n",
    "Ambos beneficios y contagios luego serán mezclados\n",
    "\n",
    "En este caso el limite es muy grande, y deberá recorrer nodo del arbol de ejecución"
   ]
  },
  {
   "cell_type": "code",
   "execution_count": 3,
   "metadata": {},
   "outputs": [],
   "source": [
    "filas_indice = []\n",
    "B = []\n",
    "for n in range(1, 201):\n",
    "    M = math.floor(n/2)\n",
    "    B = [0 for i in range(0, n)]\n",
    "    for i in range(0, n): B[i] = i+1\n",
    "    random.shuffle(B)\n",
    "    #S = []\n",
    "    #for i in B:\n",
    "    #    S.append(i)\n",
    "    #    S.append(\" \")\n",
    "    #    S.append(i)\n",
    "    save_instance(\"densidad-alta\", F\"ALTA-{n}\", B, M, n)\n",
    "    B = []\n",
    "    filas_indice.append([\"densidad-alta\", F\"ALTA-{n}\", n, M, F\"instancias/densidad-alta/ALTA-{n}.txt\"])\n",
    "pd.DataFrame(filas_indice, columns=[\"dataset\", \"instancia\", \"n\", \"M\", \"archivo\"]).to_csv(\"instancias/densidad-alta/indice.csv\", index=False, header=True)"
   ]
  },
  {
   "cell_type": "markdown",
   "metadata": {},
   "source": [
    "## Dataset 2\n",
    "Instancias con densidad baja de contagio:\n",
    "(necesito mayor cantidad de elementos para llegar a M)\n",
    "```\n",
    "C = { 1, 2, ... , n } con M = n(n+1)/2\n",
    "B = { 1, 2, ... , n } \n",
    "```\n",
    "Ambos beneficios y contagios luego serán mezclados\n",
    "\n",
    "En este caso el limite de contagio es pequeño y en teoría deberia tardar mucho menos que el caso anterior"
   ]
  },
  {
   "cell_type": "code",
   "execution_count": 4,
   "metadata": {},
   "outputs": [],
   "source": [
    "filas_indice = []\n",
    "B = []\n",
    "for n in range(1, 201):\n",
    "    M = max(1, math.floor(n * (n+1) / 4))\n",
    "    B = [0 for i in range(0, n)]\n",
    "    for i in range(0, n): B[i] = i+1\n",
    "    random.shuffle(B)\n",
    "    #S = []\n",
    "    #for i in B:\n",
    "    #    S.append(i)\n",
    "    #    S.append(i)\n",
    "    #    S.append('\\n')\n",
    "    #ahora a save le pasas el n\n",
    "    save_instance(\"densidad-baja\", F\"BAJA-{n}\", B, M, n)\n",
    "    B = []\n",
    "    filas_indice.append([\"densidad-baja\", F\"BAJA-{n}\", n, M, F\"instancias/densidad-baja/BAJA-{n}.txt\"])\n",
    "pd.DataFrame(filas_indice, columns=[\"dataset\", \"instancia\", \"n\", \"M\", \"archivo\"]).to_csv(\"instancias/densidad-baja/indice.csv\", index=False, header=True)"
   ]
  },
  {
   "cell_type": "markdown",
   "metadata": {},
   "source": [
    "# Dataset 3\n",
    "- Backtracking mejor caso\n",
    "Instancias de mejor caso de backtracking, están descriptas en el informe en más detalle.\n",
    "```\n",
    "B = {2*n, ...,1, 1} con #B y #C = n y M = n*2\n",
    "C = {2*n, ..., 1, 1} \n",
    "```\n",
    "NOTA:\n",
    "En principio el beneficio en este caso se puede cambiar la variable que realmente importa es el Contagio C\n",
    "En este caso hay poco contagio de local y mucho limite"
   ]
  },
  {
   "cell_type": "code",
   "execution_count": 5,
   "metadata": {},
   "outputs": [],
   "source": [
    "filas_indice = []\n",
    "B = []\n",
    "for n in range(1, 1001):\n",
    "    #n = i * 10\n",
    "    M = n*2\n",
    "    B = [1 for i in range(0, n)]\n",
    "    B[0]=n*2    \n",
    "    #for j in range(0, n):\n",
    "    #    B.append(1)\n",
    "    #    B.append(1)\n",
    "    #    B.append('\\n')\n",
    "    save_instance(\"mejor-caso-bt\", F\"BT-MC-{n}\", B, M, n)\n",
    "    B = []\n",
    "    filas_indice.append([\"mejor-caso-bt\", F\"BT-MC-{n}\", n, M, F\"instancias/mejor-caso-bt/BT-MC-{n}.txt\"])\n",
    "pd.DataFrame(filas_indice, columns=[\"dataset\", \"instancia\", \"n\", \"M\", \"archivo\"]).to_csv(\"instancias/mejor-caso-bt/indice.csv\", index=False, header=True)"
   ]
  },
  {
   "cell_type": "markdown",
   "metadata": {},
   "source": [
    "# Dataset 4\n",
    "genera el peor caso de bt, donde tengo que agregar todos los elementos \n",
    "```\n",
    "B = {1, ...,1, 1} con #B, #C = n y M = n\n",
    "C = {1, ..., 1, 1} \n",
    "```\n",
    "\n",
    "NOTA:\n",
    "En principio el beneficio en este caso se puede cambiar la variable que realmente importa es el Contagio C\n",
    "En este caso hay mucho contagio de local y poco limite M"
   ]
  },
  {
   "cell_type": "code",
   "execution_count": 6,
   "metadata": {},
   "outputs": [],
   "source": [
    "filas_indice = []\n",
    "B = []\n",
    "for n in range(1, 60):\n",
    "    #n = i * 10\n",
    "    M = n\n",
    "    B = [1 for i in range(0, n)]\n",
    "    #for i in B:\n",
    "    #    S.append(i)\n",
    "    #    S.append(i)\n",
    "    #    S.append('\\n')\n",
    "    save_instance(\"dataset-4\", F\"DS-4-{n}\", B, M, n)\n",
    "    B = []\n",
    "    filas_indice.append([\"dataset-4\", F\"DS-4-{n}\", n, M, F\"instancias/dataset-4/DS4-{n}.txt\"])\n",
    "pd.DataFrame(filas_indice, columns=[\"dataset\", \"instancia\", \"n\", \"M\", \"archivo\"]).to_csv(\"instancias/dataset-4/indice.csv\", index=False, header=True)"
   ]
  },
  {
   "cell_type": "markdown",
   "metadata": {},
   "source": [
    "# Dataset 5\n",
    "EXPERIMENTAL, CONSULTAR\n",
    "```\n",
    "B = {M, ..., 1, 1} y M arbitrariamente grande\n",
    "C = {M, ..., 1, 1} \n",
    "```\n",
    "La hipótesis es que dado que el beneficio máximo y contagio máximo se encuentran en el primer lugar del Dataset, el algoritmo de Backtracking termina muy rápido, de hecho termina más rápido que con sus 2 podas."
   ]
  },
  {
   "cell_type": "code",
   "execution_count": 8,
   "metadata": {},
   "outputs": [],
   "source": [
    "filas_indice = []\n",
    "B = []\n",
    "for i in range(1, 201):\n",
    "    n = i * 10\n",
    "    M = 1000\n",
    "    for j in range(0, n):\n",
    "        B.append(1)\n",
    "        B.append(1)\n",
    "        B.append('\\n')\n",
    "    B[0] = M\n",
    "    B[1] = M\n",
    "    save_instance(\"dataset-5\", F\"DS-5-MC-{n}\", B, M, n)\n",
    "    B = []\n",
    "    filas_indice.append([\"dataset-5\", F\"DS-5-{n}\", n, M, F\"instancias/dataset-5/DS-5-{n}.txt\"])\n",
    "pd.DataFrame(filas_indice, columns=[\"dataset\", \"instancia\", \"n\", \"M\", \"archivo\"]).to_csv(\"instancias/dataset-5/indice.csv\", index=False, header=True)"
   ]
  },
  {
   "cell_type": "markdown",
   "metadata": {},
   "source": [
    "#Dataset 6\n",
    "\n",
    "Instancias variando n y M con densidad baja.\n"
   ]
  },
  {
   "cell_type": "code",
   "execution_count": 9,
   "metadata": {},
   "outputs": [],
   "source": [
    "filas_indice = []\n",
    "for n in range(1000, 8000, 500):\n",
    "    for M in range(1000, 8000, 500):\n",
    "        S = [1 for i in range(0, n)]\n",
    "        save_instance(\"dinamica\", F\"DP-{n}-{M}\", S, M, n)\n",
    "        filas_indice.append([\"dinamica\", F\"DP-{n}-{M}\", n, M, F\"instancias/dinamica/DP-{n}-{M}.txt\"])\n",
    "pd.DataFrame(filas_indice, columns=[\"dataset\", \"instancia\", \"n\", \"M\", \"archivo\"]).to_csv(\"instancias/dinamica/indice.csv\", index=False, header=True)"
   ]
  },
  {
   "cell_type": "markdown",
   "metadata": {},
   "source": [
    "#DataSet 7\n",
    "para probar pd con bt creo instancias que sean M = 2^n \n",
    "esto hace que pd sea O(n* 2^n)"
   ]
  },
  {
   "cell_type": "code",
   "execution_count": 10,
   "metadata": {},
   "outputs": [],
   "source": [
    "filas_indice = []\n",
    "B = []\n",
    "for n in range(1, 11):\n",
    "    M = 2**n\n",
    "    B = [0 for i in range(0, n)]\n",
    "    for i in range(0, n): B[i] = i+1\n",
    "    random.shuffle(B)\n",
    "    #for j in range(0, n):\n",
    "    #    B.append(1)\n",
    "    #    B.append(1)\n",
    "    #    B.append('\\n')\n",
    "    #B[0] = M\n",
    "    #B[1] = M\n",
    "    save_instance(\"dataset-7\", F\"DS-7-{n}\", B, M, n)\n",
    "    B = []\n",
    "    filas_indice.append([\"dataset-7\", F\"DS-7-{n}\", n, M, F\"instancias/dataset-7/DS-7-{n}.txt\"])\n",
    "pd.DataFrame(filas_indice, columns=[\"dataset\", \"instancia\", \"n\", \"M\", \"archivo\"]).to_csv(\"instancias/dataset-7/indice.csv\", index=False, header=True)"
   ]
  },
  {
   "cell_type": "code",
   "execution_count": null,
   "metadata": {},
   "outputs": [],
   "source": []
  }
 ],
 "metadata": {
  "kernelspec": {
   "display_name": "Python 3",
   "language": "python",
   "name": "python3"
  },
  "language_info": {
   "codemirror_mode": {
    "name": "ipython",
    "version": 3
   },
   "file_extension": ".py",
   "mimetype": "text/x-python",
   "name": "python",
   "nbconvert_exporter": "python",
   "pygments_lexer": "ipython3",
   "version": "3.8.2"
  }
 },
 "nbformat": 4,
 "nbformat_minor": 4
}
